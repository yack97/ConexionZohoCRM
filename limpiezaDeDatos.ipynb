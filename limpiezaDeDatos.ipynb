{
 "cells": [
  {
   "cell_type": "code",
   "id": "initial_id",
   "metadata": {
    "collapsed": true,
    "ExecuteTime": {
     "end_time": "2024-09-10T05:55:00.978270Z",
     "start_time": "2024-09-10T05:54:54.909669Z"
    }
   },
   "source": "import pandas as pd",
   "outputs": [],
   "execution_count": 1
  },
  {
   "metadata": {
    "ExecuteTime": {
     "end_time": "2024-09-10T05:55:38.084517Z",
     "start_time": "2024-09-10T05:55:37.989101Z"
    }
   },
   "cell_type": "code",
   "source": "df = pd.read_csv('leads.csv')",
   "id": "a4eff7fc1e4c9795",
   "outputs": [],
   "execution_count": 2
  },
  {
   "metadata": {
    "ExecuteTime": {
     "end_time": "2024-09-10T05:57:37.122946Z",
     "start_time": "2024-09-10T05:57:37.084601Z"
    }
   },
   "cell_type": "code",
   "source": "df.head(50)",
   "id": "282b72776e4d3cbd",
   "outputs": [
    {
     "data": {
      "text/plain": [
       "   First Name   Last Name         Company            Title  \\\n",
       "0       Alice       Smith        ABC Corp        Developer   \n",
       "1         Bob      Harris         XYZ Inc          Manager   \n",
       "3       Diana      Moreno   DMM Solutions              CEO   \n",
       "4        Eric       Young         EY Tech              CTO   \n",
       "5       Fiona    Martinez    Innovate Ltd         Marketer   \n",
       "6      George  Washington      Freelancer       Consultant   \n",
       "7      Hannah         Lee          H-Tech          Analyst   \n",
       "8        Ivan      Petrov    IP Solutions        Developer   \n",
       "9       Julia       Brown       JBC Media       HR Manager   \n",
       "10      Kevin      Taylor         KTV Inc       Researcher   \n",
       "11      Linda       Evans    LE Marketing         Director   \n",
       "12     Monica     Gilbert  MG Innovations  Product Manager   \n",
       "14     Olivia     Sanchez        OS Media              COO   \n",
       "15   Patricia     Johnson      PJ Systems              CFO   \n",
       "16      Quinn     Roberts         QR Tech              CMO   \n",
       "17     Rachel         Kim       RK Health          Surgeon   \n",
       "18      Steve      Morris    SM Solutions         Engineer   \n",
       "19       Tina       Adams        TA Media         Producer   \n",
       "20        Uma    Thompson      UT Designs         Designer   \n",
       "21     Victor        Diaz         VD Tech       Programmer   \n",
       "22      Wendy      Austin   WA Consulting          Advisor   \n",
       "23     Xavier       Jones    XJ Marketing       Strategist   \n",
       "24    Yolanda      Garcia         YG Tech          Manager   \n",
       "25        Zoe     Chapman  ZC Innovations          Founder   \n",
       "26       Alan        Ford         AF Tech         Engineer   \n",
       "27     Brenda      Watson      BW Systems         Director   \n",
       "28      Cindy       White          CW Web    Web Developer   \n",
       "29      Derek      Lawson        DL Media     Photographer   \n",
       "\n",
       "                          Email        Lead Source        Lead Status  \n",
       "0         alice.smith@email.com      Advertisement  Contact in Future  \n",
       "1          bob.harris@email.com          Cold Call  Contact in Future  \n",
       "3        diana.moreno@email.com           Facebook  Contact in Future  \n",
       "4          eric.young@email.com  External Referral  Contact in Future  \n",
       "5      fiona.martinez@email.com      Advertisement  Contact in Future  \n",
       "6   george.washington@email.com           LinkedIn  Contact in Future  \n",
       "7          hannah.lee@email.com           Facebook  Contact in Future  \n",
       "8         ivan.petrov@email.com            Twitter  Contact in Future  \n",
       "9         julia.brown@email.com  Employee Referral  Contact in Future  \n",
       "10       kevin.taylor@email.com  External Referral  Contact in Future  \n",
       "11        linda.evans@email.com      Advertisement  Contact in Future  \n",
       "12     monica.gilbert@email.com          Cold Call  Contact in Future  \n",
       "14     olivia.sanchez@email.com            Twitter  Contact in Future  \n",
       "15   patricia.johnson@email.com           Facebook  Contact in Future  \n",
       "16      quinn.roberts@email.com      Advertisement  Contact in Future  \n",
       "17         rachel.kim@email.com  Employee Referral  Contact in Future  \n",
       "18       steve.morris@email.com  External Referral  Contact in Future  \n",
       "19         tina.adams@email.com           Facebook  Contact in Future  \n",
       "20       uma.thompson@email.com           LinkedIn  Contact in Future  \n",
       "21        victor.diaz@email.com      Advertisement  Contact in Future  \n",
       "22       wendy.austin@email.com          Cold Call  Contact in Future  \n",
       "23       xavier.jones@email.com            Twitter  Contact in Future  \n",
       "24     yolanda.garcia@email.com           Facebook  Contact in Future  \n",
       "25        zoe.chapman@email.com  Employee Referral  Contact in Future  \n",
       "26          alan.ford@email.com      Advertisement  Contact in Future  \n",
       "27      brenda.watson@email.com          Cold Call  Contact in Future  \n",
       "28        cindy.white@email.com           LinkedIn  Contact in Future  \n",
       "29       derek.lawson@email.com           Facebook  Contact in Future  "
      ],
      "text/html": [
       "<div>\n",
       "<style scoped>\n",
       "    .dataframe tbody tr th:only-of-type {\n",
       "        vertical-align: middle;\n",
       "    }\n",
       "\n",
       "    .dataframe tbody tr th {\n",
       "        vertical-align: top;\n",
       "    }\n",
       "\n",
       "    .dataframe thead th {\n",
       "        text-align: right;\n",
       "    }\n",
       "</style>\n",
       "<table border=\"1\" class=\"dataframe\">\n",
       "  <thead>\n",
       "    <tr style=\"text-align: right;\">\n",
       "      <th></th>\n",
       "      <th>First Name</th>\n",
       "      <th>Last Name</th>\n",
       "      <th>Company</th>\n",
       "      <th>Title</th>\n",
       "      <th>Email</th>\n",
       "      <th>Lead Source</th>\n",
       "      <th>Lead Status</th>\n",
       "    </tr>\n",
       "  </thead>\n",
       "  <tbody>\n",
       "    <tr>\n",
       "      <th>0</th>\n",
       "      <td>Alice</td>\n",
       "      <td>Smith</td>\n",
       "      <td>ABC Corp</td>\n",
       "      <td>Developer</td>\n",
       "      <td>alice.smith@email.com</td>\n",
       "      <td>Advertisement</td>\n",
       "      <td>Contact in Future</td>\n",
       "    </tr>\n",
       "    <tr>\n",
       "      <th>1</th>\n",
       "      <td>Bob</td>\n",
       "      <td>Harris</td>\n",
       "      <td>XYZ Inc</td>\n",
       "      <td>Manager</td>\n",
       "      <td>bob.harris@email.com</td>\n",
       "      <td>Cold Call</td>\n",
       "      <td>Contact in Future</td>\n",
       "    </tr>\n",
       "    <tr>\n",
       "      <th>3</th>\n",
       "      <td>Diana</td>\n",
       "      <td>Moreno</td>\n",
       "      <td>DMM Solutions</td>\n",
       "      <td>CEO</td>\n",
       "      <td>diana.moreno@email.com</td>\n",
       "      <td>Facebook</td>\n",
       "      <td>Contact in Future</td>\n",
       "    </tr>\n",
       "    <tr>\n",
       "      <th>4</th>\n",
       "      <td>Eric</td>\n",
       "      <td>Young</td>\n",
       "      <td>EY Tech</td>\n",
       "      <td>CTO</td>\n",
       "      <td>eric.young@email.com</td>\n",
       "      <td>External Referral</td>\n",
       "      <td>Contact in Future</td>\n",
       "    </tr>\n",
       "    <tr>\n",
       "      <th>5</th>\n",
       "      <td>Fiona</td>\n",
       "      <td>Martinez</td>\n",
       "      <td>Innovate Ltd</td>\n",
       "      <td>Marketer</td>\n",
       "      <td>fiona.martinez@email.com</td>\n",
       "      <td>Advertisement</td>\n",
       "      <td>Contact in Future</td>\n",
       "    </tr>\n",
       "    <tr>\n",
       "      <th>6</th>\n",
       "      <td>George</td>\n",
       "      <td>Washington</td>\n",
       "      <td>Freelancer</td>\n",
       "      <td>Consultant</td>\n",
       "      <td>george.washington@email.com</td>\n",
       "      <td>LinkedIn</td>\n",
       "      <td>Contact in Future</td>\n",
       "    </tr>\n",
       "    <tr>\n",
       "      <th>7</th>\n",
       "      <td>Hannah</td>\n",
       "      <td>Lee</td>\n",
       "      <td>H-Tech</td>\n",
       "      <td>Analyst</td>\n",
       "      <td>hannah.lee@email.com</td>\n",
       "      <td>Facebook</td>\n",
       "      <td>Contact in Future</td>\n",
       "    </tr>\n",
       "    <tr>\n",
       "      <th>8</th>\n",
       "      <td>Ivan</td>\n",
       "      <td>Petrov</td>\n",
       "      <td>IP Solutions</td>\n",
       "      <td>Developer</td>\n",
       "      <td>ivan.petrov@email.com</td>\n",
       "      <td>Twitter</td>\n",
       "      <td>Contact in Future</td>\n",
       "    </tr>\n",
       "    <tr>\n",
       "      <th>9</th>\n",
       "      <td>Julia</td>\n",
       "      <td>Brown</td>\n",
       "      <td>JBC Media</td>\n",
       "      <td>HR Manager</td>\n",
       "      <td>julia.brown@email.com</td>\n",
       "      <td>Employee Referral</td>\n",
       "      <td>Contact in Future</td>\n",
       "    </tr>\n",
       "    <tr>\n",
       "      <th>10</th>\n",
       "      <td>Kevin</td>\n",
       "      <td>Taylor</td>\n",
       "      <td>KTV Inc</td>\n",
       "      <td>Researcher</td>\n",
       "      <td>kevin.taylor@email.com</td>\n",
       "      <td>External Referral</td>\n",
       "      <td>Contact in Future</td>\n",
       "    </tr>\n",
       "    <tr>\n",
       "      <th>11</th>\n",
       "      <td>Linda</td>\n",
       "      <td>Evans</td>\n",
       "      <td>LE Marketing</td>\n",
       "      <td>Director</td>\n",
       "      <td>linda.evans@email.com</td>\n",
       "      <td>Advertisement</td>\n",
       "      <td>Contact in Future</td>\n",
       "    </tr>\n",
       "    <tr>\n",
       "      <th>12</th>\n",
       "      <td>Monica</td>\n",
       "      <td>Gilbert</td>\n",
       "      <td>MG Innovations</td>\n",
       "      <td>Product Manager</td>\n",
       "      <td>monica.gilbert@email.com</td>\n",
       "      <td>Cold Call</td>\n",
       "      <td>Contact in Future</td>\n",
       "    </tr>\n",
       "    <tr>\n",
       "      <th>14</th>\n",
       "      <td>Olivia</td>\n",
       "      <td>Sanchez</td>\n",
       "      <td>OS Media</td>\n",
       "      <td>COO</td>\n",
       "      <td>olivia.sanchez@email.com</td>\n",
       "      <td>Twitter</td>\n",
       "      <td>Contact in Future</td>\n",
       "    </tr>\n",
       "    <tr>\n",
       "      <th>15</th>\n",
       "      <td>Patricia</td>\n",
       "      <td>Johnson</td>\n",
       "      <td>PJ Systems</td>\n",
       "      <td>CFO</td>\n",
       "      <td>patricia.johnson@email.com</td>\n",
       "      <td>Facebook</td>\n",
       "      <td>Contact in Future</td>\n",
       "    </tr>\n",
       "    <tr>\n",
       "      <th>16</th>\n",
       "      <td>Quinn</td>\n",
       "      <td>Roberts</td>\n",
       "      <td>QR Tech</td>\n",
       "      <td>CMO</td>\n",
       "      <td>quinn.roberts@email.com</td>\n",
       "      <td>Advertisement</td>\n",
       "      <td>Contact in Future</td>\n",
       "    </tr>\n",
       "    <tr>\n",
       "      <th>17</th>\n",
       "      <td>Rachel</td>\n",
       "      <td>Kim</td>\n",
       "      <td>RK Health</td>\n",
       "      <td>Surgeon</td>\n",
       "      <td>rachel.kim@email.com</td>\n",
       "      <td>Employee Referral</td>\n",
       "      <td>Contact in Future</td>\n",
       "    </tr>\n",
       "    <tr>\n",
       "      <th>18</th>\n",
       "      <td>Steve</td>\n",
       "      <td>Morris</td>\n",
       "      <td>SM Solutions</td>\n",
       "      <td>Engineer</td>\n",
       "      <td>steve.morris@email.com</td>\n",
       "      <td>External Referral</td>\n",
       "      <td>Contact in Future</td>\n",
       "    </tr>\n",
       "    <tr>\n",
       "      <th>19</th>\n",
       "      <td>Tina</td>\n",
       "      <td>Adams</td>\n",
       "      <td>TA Media</td>\n",
       "      <td>Producer</td>\n",
       "      <td>tina.adams@email.com</td>\n",
       "      <td>Facebook</td>\n",
       "      <td>Contact in Future</td>\n",
       "    </tr>\n",
       "    <tr>\n",
       "      <th>20</th>\n",
       "      <td>Uma</td>\n",
       "      <td>Thompson</td>\n",
       "      <td>UT Designs</td>\n",
       "      <td>Designer</td>\n",
       "      <td>uma.thompson@email.com</td>\n",
       "      <td>LinkedIn</td>\n",
       "      <td>Contact in Future</td>\n",
       "    </tr>\n",
       "    <tr>\n",
       "      <th>21</th>\n",
       "      <td>Victor</td>\n",
       "      <td>Diaz</td>\n",
       "      <td>VD Tech</td>\n",
       "      <td>Programmer</td>\n",
       "      <td>victor.diaz@email.com</td>\n",
       "      <td>Advertisement</td>\n",
       "      <td>Contact in Future</td>\n",
       "    </tr>\n",
       "    <tr>\n",
       "      <th>22</th>\n",
       "      <td>Wendy</td>\n",
       "      <td>Austin</td>\n",
       "      <td>WA Consulting</td>\n",
       "      <td>Advisor</td>\n",
       "      <td>wendy.austin@email.com</td>\n",
       "      <td>Cold Call</td>\n",
       "      <td>Contact in Future</td>\n",
       "    </tr>\n",
       "    <tr>\n",
       "      <th>23</th>\n",
       "      <td>Xavier</td>\n",
       "      <td>Jones</td>\n",
       "      <td>XJ Marketing</td>\n",
       "      <td>Strategist</td>\n",
       "      <td>xavier.jones@email.com</td>\n",
       "      <td>Twitter</td>\n",
       "      <td>Contact in Future</td>\n",
       "    </tr>\n",
       "    <tr>\n",
       "      <th>24</th>\n",
       "      <td>Yolanda</td>\n",
       "      <td>Garcia</td>\n",
       "      <td>YG Tech</td>\n",
       "      <td>Manager</td>\n",
       "      <td>yolanda.garcia@email.com</td>\n",
       "      <td>Facebook</td>\n",
       "      <td>Contact in Future</td>\n",
       "    </tr>\n",
       "    <tr>\n",
       "      <th>25</th>\n",
       "      <td>Zoe</td>\n",
       "      <td>Chapman</td>\n",
       "      <td>ZC Innovations</td>\n",
       "      <td>Founder</td>\n",
       "      <td>zoe.chapman@email.com</td>\n",
       "      <td>Employee Referral</td>\n",
       "      <td>Contact in Future</td>\n",
       "    </tr>\n",
       "    <tr>\n",
       "      <th>26</th>\n",
       "      <td>Alan</td>\n",
       "      <td>Ford</td>\n",
       "      <td>AF Tech</td>\n",
       "      <td>Engineer</td>\n",
       "      <td>alan.ford@email.com</td>\n",
       "      <td>Advertisement</td>\n",
       "      <td>Contact in Future</td>\n",
       "    </tr>\n",
       "    <tr>\n",
       "      <th>27</th>\n",
       "      <td>Brenda</td>\n",
       "      <td>Watson</td>\n",
       "      <td>BW Systems</td>\n",
       "      <td>Director</td>\n",
       "      <td>brenda.watson@email.com</td>\n",
       "      <td>Cold Call</td>\n",
       "      <td>Contact in Future</td>\n",
       "    </tr>\n",
       "    <tr>\n",
       "      <th>28</th>\n",
       "      <td>Cindy</td>\n",
       "      <td>White</td>\n",
       "      <td>CW Web</td>\n",
       "      <td>Web Developer</td>\n",
       "      <td>cindy.white@email.com</td>\n",
       "      <td>LinkedIn</td>\n",
       "      <td>Contact in Future</td>\n",
       "    </tr>\n",
       "    <tr>\n",
       "      <th>29</th>\n",
       "      <td>Derek</td>\n",
       "      <td>Lawson</td>\n",
       "      <td>DL Media</td>\n",
       "      <td>Photographer</td>\n",
       "      <td>derek.lawson@email.com</td>\n",
       "      <td>Facebook</td>\n",
       "      <td>Contact in Future</td>\n",
       "    </tr>\n",
       "  </tbody>\n",
       "</table>\n",
       "</div>"
      ]
     },
     "execution_count": 9,
     "metadata": {},
     "output_type": "execute_result"
    }
   ],
   "execution_count": 9
  },
  {
   "metadata": {
    "ExecuteTime": {
     "end_time": "2024-09-10T05:55:48.096061Z",
     "start_time": "2024-09-10T05:55:48.079241Z"
    }
   },
   "cell_type": "code",
   "source": "df.shape",
   "id": "efc960c769a46eff",
   "outputs": [
    {
     "data": {
      "text/plain": [
       "(30, 7)"
      ]
     },
     "execution_count": 4,
     "metadata": {},
     "output_type": "execute_result"
    }
   ],
   "execution_count": 4
  },
  {
   "metadata": {
    "ExecuteTime": {
     "end_time": "2024-09-10T05:56:17.879598Z",
     "start_time": "2024-09-10T05:56:17.828546Z"
    }
   },
   "cell_type": "code",
   "source": "df = df.dropna()",
   "id": "f82fca238e46a840",
   "outputs": [],
   "execution_count": 5
  },
  {
   "metadata": {
    "ExecuteTime": {
     "end_time": "2024-09-10T05:56:25.848569Z",
     "start_time": "2024-09-10T05:56:25.824445Z"
    }
   },
   "cell_type": "code",
   "source": "df.shape",
   "id": "a962a1412b778332",
   "outputs": [
    {
     "data": {
      "text/plain": [
       "(28, 7)"
      ]
     },
     "execution_count": 6,
     "metadata": {},
     "output_type": "execute_result"
    }
   ],
   "execution_count": 6
  },
  {
   "metadata": {
    "ExecuteTime": {
     "end_time": "2024-09-10T05:57:03.200060Z",
     "start_time": "2024-09-10T05:57:03.131646Z"
    }
   },
   "cell_type": "code",
   "source": "df.dropna(inplace=True)",
   "id": "ae5a1cb86048dd3",
   "outputs": [],
   "execution_count": 7
  },
  {
   "metadata": {
    "ExecuteTime": {
     "end_time": "2024-09-10T05:57:13.513862Z",
     "start_time": "2024-09-10T05:57:13.498754Z"
    }
   },
   "cell_type": "code",
   "source": "df.shape",
   "id": "54abe529fa20357b",
   "outputs": [
    {
     "data": {
      "text/plain": [
       "(28, 7)"
      ]
     },
     "execution_count": 8,
     "metadata": {},
     "output_type": "execute_result"
    }
   ],
   "execution_count": 8
  },
  {
   "metadata": {
    "ExecuteTime": {
     "end_time": "2024-09-10T06:06:21.284642Z",
     "start_time": "2024-09-10T06:06:21.190566Z"
    }
   },
   "cell_type": "code",
   "source": "df = df[df['Lead Source'] != 'Facebook']",
   "id": "25a1fade8ea15f9d",
   "outputs": [],
   "execution_count": 10
  },
  {
   "metadata": {
    "ExecuteTime": {
     "end_time": "2024-09-10T06:07:29.046952Z",
     "start_time": "2024-09-10T06:07:28.965548Z"
    }
   },
   "cell_type": "code",
   "source": "print(df.head().to_markdown(index=False, numalign=\"left\", stralign=\"left\"))\n",
   "id": "254b7ddcb72704a3",
   "outputs": [
    {
     "name": "stdout",
     "output_type": "stream",
     "text": [
      "| First Name   | Last Name   | Company      | Title      | Email                       | Lead Source       | Lead Status       |\n",
      "|:-------------|:------------|:-------------|:-----------|:----------------------------|:------------------|:------------------|\n",
      "| Alice        | Smith       | ABC Corp     | Developer  | alice.smith@email.com       | Advertisement     | Contact in Future |\n",
      "| Bob          | Harris      | XYZ Inc      | Manager    | bob.harris@email.com        | Cold Call         | Contact in Future |\n",
      "| Eric         | Young       | EY Tech      | CTO        | eric.young@email.com        | External Referral | Contact in Future |\n",
      "| Fiona        | Martinez    | Innovate Ltd | Marketer   | fiona.martinez@email.com    | Advertisement     | Contact in Future |\n",
      "| George       | Washington  | Freelancer   | Consultant | george.washington@email.com | LinkedIn          | Contact in Future |\n"
     ]
    }
   ],
   "execution_count": 13
  },
  {
   "metadata": {
    "ExecuteTime": {
     "end_time": "2024-09-10T06:07:45.634577Z",
     "start_time": "2024-09-10T06:07:45.615855Z"
    }
   },
   "cell_type": "code",
   "source": "df.shape",
   "id": "8176a47590b08ec6",
   "outputs": [
    {
     "data": {
      "text/plain": [
       "(22, 7)"
      ]
     },
     "execution_count": 14,
     "metadata": {},
     "output_type": "execute_result"
    }
   ],
   "execution_count": 14
  },
  {
   "metadata": {
    "ExecuteTime": {
     "end_time": "2024-09-10T06:10:10.450933Z",
     "start_time": "2024-09-10T06:10:10.386802Z"
    }
   },
   "cell_type": "code",
   "source": "df.to_csv('leads.csv', index=False)",
   "id": "b661709f0624a120",
   "outputs": [],
   "execution_count": 15
  },
  {
   "metadata": {
    "ExecuteTime": {
     "end_time": "2024-09-10T06:29:10.274633Z",
     "start_time": "2024-09-10T06:29:10.247573Z"
    }
   },
   "cell_type": "code",
   "source": [
    "conteo_pepas = (df['Lead Source'] == 'Advertisement').sum()\n",
    "print(f'Número de filas con \"pepás\": {conteo_pepas}')\n",
    "df['Lead Source'] = df['Lead Source'].replace('Advertisement', 'Contacted')\n",
    "print(df['Lead Source'].unique())"
   ],
   "id": "c9c79031a9e3cde9",
   "outputs": [
    {
     "name": "stdout",
     "output_type": "stream",
     "text": [
      "Número de filas con \"pepás\": 6\n",
      "['Contacted' 'Cold Call' 'External Referral' 'LinkedIn' 'Twitter'\n",
      " 'Employee Referral']\n"
     ]
    }
   ],
   "execution_count": 17
  },
  {
   "metadata": {
    "ExecuteTime": {
     "end_time": "2024-09-10T06:29:42.024919Z",
     "start_time": "2024-09-10T06:29:42.002254Z"
    }
   },
   "cell_type": "code",
   "source": "df.to_csv('leads.csv', index=False)",
   "id": "7bc900680b1b7c0c",
   "outputs": [],
   "execution_count": 18
  },
  {
   "metadata": {},
   "cell_type": "code",
   "outputs": [],
   "execution_count": null,
   "source": "",
   "id": "dbf5a59e1d3c6ddf"
  }
 ],
 "metadata": {
  "kernelspec": {
   "display_name": "Python 3",
   "language": "python",
   "name": "python3"
  },
  "language_info": {
   "codemirror_mode": {
    "name": "ipython",
    "version": 2
   },
   "file_extension": ".py",
   "mimetype": "text/x-python",
   "name": "python",
   "nbconvert_exporter": "python",
   "pygments_lexer": "ipython2",
   "version": "2.7.6"
  }
 },
 "nbformat": 4,
 "nbformat_minor": 5
}
